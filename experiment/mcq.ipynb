{
 "cells": [
  {
   "cell_type": "code",
   "execution_count": 1,
   "id": "initial_id",
   "metadata": {
    "collapsed": true,
    "ExecuteTime": {
     "end_time": "2024-03-23T09:52:20.441585Z",
     "start_time": "2024-03-23T09:52:19.282703Z"
    }
   },
   "outputs": [],
   "source": [
    "import os\n",
    "import json\n",
    "import pandas as pd\n",
    "import traceback"
   ]
  },
  {
   "cell_type": "code",
   "outputs": [],
   "source": [
    "from langchain.chat_models import ChatOpenAI"
   ],
   "metadata": {
    "collapsed": false,
    "ExecuteTime": {
     "end_time": "2024-03-23T10:02:24.761802Z",
     "start_time": "2024-03-23T10:02:24.755350Z"
    }
   },
   "id": "e9062fbf44d09692",
   "execution_count": 5
  },
  {
   "cell_type": "code",
   "outputs": [
    {
     "data": {
      "text/plain": "True"
     },
     "execution_count": 13,
     "metadata": {},
     "output_type": "execute_result"
    }
   ],
   "source": [
    "from dotenv import load_dotenv\n",
    "load_dotenv() #take environment variables from .env"
   ],
   "metadata": {
    "collapsed": false,
    "ExecuteTime": {
     "end_time": "2024-03-23T10:14:39.205702Z",
     "start_time": "2024-03-23T10:14:39.191282Z"
    }
   },
   "id": "6ac3a7fc0973b625",
   "execution_count": 13
  },
  {
   "cell_type": "code",
   "outputs": [
    {
     "name": "stdout",
     "output_type": "stream",
     "text": [
      "gpt-3.5-turbo-16k\n"
     ]
    }
   ],
   "source": [
    "KEY=os.environ.get(\"OPENAI_API_KEY\")\n",
    "GPT_MODEL=os.environ.get(\"GPT_MODEL\")"
   ],
   "metadata": {
    "collapsed": false,
    "ExecuteTime": {
     "end_time": "2024-03-23T10:14:40.730278Z",
     "start_time": "2024-03-23T10:14:40.725745Z"
    }
   },
   "id": "54d33c73362f81f3",
   "execution_count": 14
  },
  {
   "cell_type": "code",
   "outputs": [],
   "source": [
    "llm=ChatOpenAI(openai_api_key=KEY, model=GPT_MODEL, temperature=0.5)"
   ],
   "metadata": {
    "collapsed": false,
    "ExecuteTime": {
     "end_time": "2024-03-23T10:14:45.443638Z",
     "start_time": "2024-03-23T10:14:44.815787Z"
    }
   },
   "id": "afc20010540da3b8",
   "execution_count": 15
  },
  {
   "cell_type": "code",
   "outputs": [],
   "source": [
    "from langchain.llms import OpenAI\n",
    "from langchain.prompts import PromptTemplate\n",
    "from langchain.chains import LLMChain\n",
    "from langchain.chains import SequentialChain\n",
    "from langchain.callbacks import get_openai_callback\n",
    "import PyPDF2"
   ],
   "metadata": {
    "collapsed": false,
    "ExecuteTime": {
     "end_time": "2024-03-23T10:14:53.252278Z",
     "start_time": "2024-03-23T10:14:53.247424Z"
    }
   },
   "id": "a63b8617482d196",
   "execution_count": 17
  },
  {
   "cell_type": "code",
   "outputs": [],
   "source": [
    "RESPONSE_JSON = {\n",
    "    \"1\": {\n",
    "        \"mcq\": \"multiple choice question\",\n",
    "        \"options\": {\n",
    "            \"a\": \"choice here\",\n",
    "            \"b\": \"choice here\",\n",
    "            \"c\": \"choice here\",\n",
    "            \"d\": \"choice here\",\n",
    "        },\n",
    "        \"correct\": \"correct answer\",\n",
    "    },\n",
    "    \"2\": {\n",
    "        \"mcq\": \"multiple choice question\",\n",
    "        \"options\": {\n",
    "            \"a\": \"choice here\",\n",
    "            \"b\": \"choice here\",\n",
    "            \"c\": \"choice here\",\n",
    "            \"d\": \"choice here\",\n",
    "        },\n",
    "        \"correct\": \"correct answer\",\n",
    "    },\n",
    "    \"3\": {\n",
    "        \"mcq\": \"multiple choice question\",\n",
    "        \"options\": {\n",
    "            \"a\": \"choice here\",\n",
    "            \"b\": \"choice here\",\n",
    "            \"c\": \"choice here\",\n",
    "            \"d\": \"choice here\",\n",
    "        },\n",
    "        \"correct\": \"correct answer\",\n",
    "    },\n",
    "}"
   ],
   "metadata": {
    "collapsed": false,
    "ExecuteTime": {
     "end_time": "2024-03-23T10:15:09.780676Z",
     "start_time": "2024-03-23T10:15:09.765729Z"
    }
   },
   "id": "39bdc44ebce27b5a",
   "execution_count": 18
  },
  {
   "cell_type": "code",
   "outputs": [],
   "source": [
    "TEMPLATE=\"\"\"\n",
    "Text:{text}\n",
    "You are an expert MCQ maker. Given the above text, it is your job to \\\n",
    "create a quiz  of {number} multiple choice questions for {subject} students in {tone} tone. \n",
    "Make sure the questions are not repeated and check all the questions to be conforming the text as well.\n",
    "Make sure to format your response like  RESPONSE_JSON below  and use it as a guide. \\\n",
    "Ensure to make {number} MCQs\n",
    "### RESPONSE_JSON\n",
    "{response_json}\n",
    "\n",
    "\"\"\""
   ],
   "metadata": {
    "collapsed": false,
    "ExecuteTime": {
     "end_time": "2024-03-23T10:15:11.763137Z",
     "start_time": "2024-03-23T10:15:11.757246Z"
    }
   },
   "id": "72ea115134cd94d4",
   "execution_count": 19
  },
  {
   "cell_type": "code",
   "outputs": [],
   "source": [
    "quiz_generation_prompt = PromptTemplate(\n",
    "    input_variables=[\"text\", \"number\", \"subject\", \"tone\", \"response_json\"],\n",
    "    template=TEMPLATE\n",
    "    )"
   ],
   "metadata": {
    "collapsed": false,
    "ExecuteTime": {
     "end_time": "2024-03-23T10:15:49.172691Z",
     "start_time": "2024-03-23T10:15:49.168221Z"
    }
   },
   "id": "88a7f4af9ec75418",
   "execution_count": 20
  },
  {
   "cell_type": "code",
   "outputs": [],
   "source": [
    "quiz_chain=LLMChain(llm=llm, prompt=quiz_generation_prompt, output_key=\"quiz\", verbose=True)"
   ],
   "metadata": {
    "collapsed": false,
    "ExecuteTime": {
     "end_time": "2024-03-23T10:18:18.911772Z",
     "start_time": "2024-03-23T10:18:18.906334Z"
    }
   },
   "id": "20f59f6eac85866",
   "execution_count": 21
  },
  {
   "cell_type": "code",
   "outputs": [],
   "source": [
    "TEMPLATE2=\"\"\"\n",
    "You are an expert english grammarian and writer. Given a Multiple Choice Quiz for {subject} students.\\\n",
    "You need to evaluate the complexity of the question and give a complete analysis of the quiz. Only use at max 50 words for complexity analysis. \n",
    "if the quiz is not at per with the cognitive and analytical abilities of the students,\\\n",
    "update the quiz questions which needs to be changed and change the tone such that it perfectly fits the student abilities\n",
    "Quiz_MCQs:\n",
    "{quiz}\n",
    "\n",
    "Check from an expert English Writer of the above quiz:\n",
    "\"\"\""
   ],
   "metadata": {
    "collapsed": false,
    "ExecuteTime": {
     "end_time": "2024-03-23T10:18:57.496317Z",
     "start_time": "2024-03-23T10:18:57.490694Z"
    }
   },
   "id": "89f18f10d0aefa90",
   "execution_count": 22
  },
  {
   "cell_type": "code",
   "outputs": [],
   "source": [
    "quiz_evaluation_prompt=PromptTemplate(input_variables=[\"subject\", \"quiz\"], template=TEMPLATE)"
   ],
   "metadata": {
    "collapsed": false,
    "ExecuteTime": {
     "end_time": "2024-03-23T10:19:02.588562Z",
     "start_time": "2024-03-23T10:19:02.583735Z"
    }
   },
   "id": "2b607847a9f97a54",
   "execution_count": 23
  },
  {
   "cell_type": "code",
   "outputs": [],
   "source": [
    "review_chain=LLMChain(llm=llm, prompt=quiz_evaluation_prompt, output_key=\"review\", verbose=True)"
   ],
   "metadata": {
    "collapsed": false,
    "ExecuteTime": {
     "end_time": "2024-03-23T10:19:33.369119Z",
     "start_time": "2024-03-23T10:19:33.362542Z"
    }
   },
   "id": "f5a7549f770d3b47",
   "execution_count": 24
  },
  {
   "cell_type": "code",
   "outputs": [],
   "source": [
    "generate_evaluate_chain=SequentialChain(chains=[quiz_chain, review_chain], input_variables=[\"text\", \"number\", \"subject\", \"tone\", \"response_json\"],\n",
    "                                        output_variables=[\"quiz\", \"review\"], verbose=True,)"
   ],
   "metadata": {
    "collapsed": false,
    "ExecuteTime": {
     "end_time": "2024-03-23T10:21:54.998369Z",
     "start_time": "2024-03-23T10:21:54.989933Z"
    }
   },
   "id": "b3736b202c4fccce",
   "execution_count": 25
  },
  {
   "cell_type": "code",
   "outputs": [],
   "source": [
    "file_path = r\"C:\\Users\\jacky\\mcqgen\\data.txt\""
   ],
   "metadata": {
    "collapsed": false,
    "ExecuteTime": {
     "end_time": "2024-03-23T10:32:30.743663Z",
     "start_time": "2024-03-23T10:32:30.739344Z"
    }
   },
   "id": "2fb99ee0ea4fd523",
   "execution_count": 26
  },
  {
   "cell_type": "code",
   "outputs": [],
   "source": [
    "with open(file_path, \"r\") as file:\n",
    "    TEXT = file.read()"
   ],
   "metadata": {
    "collapsed": false,
    "ExecuteTime": {
     "end_time": "2024-03-23T10:32:58.896903Z",
     "start_time": "2024-03-23T10:32:58.891162Z"
    }
   },
   "id": "6658ee04c3cfcf51",
   "execution_count": 28
  },
  {
   "cell_type": "code",
   "outputs": [
    {
     "data": {
      "text/plain": "\"Machine learning (ML) is a field of study in artificial intelligence concerned with the development and study of statistical algorithms that can learn from data and generalize to unseen data, and thus perform tasks without explicit instructions.[1] Recently, artificial neural networks have been able to surpass many previous approaches in performance.[2][3]\\n\\nMachine learning approaches have been applied to many fields including natural language processing, computer vision, speech recognition, email filtering, agriculture, and medicine.[4][5] ML is known in its application across business problems under the name predictive analytics. Although not all machine learning is statistically based, computational statistics is an important source of the field's methods.\\n\\nThe mathematical foundations of ML are provided by mathematical optimization (mathematical programming) methods. Data mining is a related (parallel) field of study, focusing on exploratory data analysis (EDA) through unsupervised learning.[7][8]\\n\\nFrom a theoretical viewpoint, probably approximately correct (PAC) learning provides a framework for describing machine learning.\""
     },
     "execution_count": 29,
     "metadata": {},
     "output_type": "execute_result"
    }
   ],
   "source": [
    "TEXT"
   ],
   "metadata": {
    "collapsed": false,
    "ExecuteTime": {
     "end_time": "2024-03-23T10:33:00.266674Z",
     "start_time": "2024-03-23T10:33:00.259863Z"
    }
   },
   "id": "63cc1db2577042d4",
   "execution_count": 29
  },
  {
   "cell_type": "code",
   "outputs": [
    {
     "data": {
      "text/plain": "'{\"1\": {\"mcq\": \"multiple choice question\", \"options\": {\"a\": \"choice here\", \"b\": \"choice here\", \"c\": \"choice here\", \"d\": \"choice here\"}, \"correct\": \"correct answer\"}, \"2\": {\"mcq\": \"multiple choice question\", \"options\": {\"a\": \"choice here\", \"b\": \"choice here\", \"c\": \"choice here\", \"d\": \"choice here\"}, \"correct\": \"correct answer\"}, \"3\": {\"mcq\": \"multiple choice question\", \"options\": {\"a\": \"choice here\", \"b\": \"choice here\", \"c\": \"choice here\", \"d\": \"choice here\"}, \"correct\": \"correct answer\"}}'"
     },
     "execution_count": 30,
     "metadata": {},
     "output_type": "execute_result"
    }
   ],
   "source": [
    "# Serialize the Python dictionary into a JSON-formatted string\n",
    "json.dumps(RESPONSE_JSON)"
   ],
   "metadata": {
    "collapsed": false,
    "ExecuteTime": {
     "end_time": "2024-03-23T10:33:52.141576Z",
     "start_time": "2024-03-23T10:33:52.133418Z"
    }
   },
   "id": "50ab79bb7febd808",
   "execution_count": 30
  },
  {
   "cell_type": "code",
   "outputs": [],
   "source": [
    "NUMBER=5 \n",
    "SUBJECT=\"data science\"\n",
    "TONE=\"simple\""
   ],
   "metadata": {
    "collapsed": false,
    "ExecuteTime": {
     "end_time": "2024-03-23T10:37:43.061451Z",
     "start_time": "2024-03-23T10:37:43.054609Z"
    }
   },
   "id": "6b9062c1efda1e85",
   "execution_count": 31
  },
  {
   "cell_type": "code",
   "outputs": [
    {
     "name": "stderr",
     "output_type": "stream",
     "text": [
      "C:\\Users\\jacky\\anaconda3\\Lib\\site-packages\\langchain_core\\_api\\deprecation.py:117: LangChainDeprecationWarning: The function `__call__` was deprecated in LangChain 0.1.0 and will be removed in 0.2.0. Use invoke instead.\n",
      "  warn_deprecated(\n"
     ]
    },
    {
     "name": "stdout",
     "output_type": "stream",
     "text": [
      "\n",
      "\n",
      "\u001B[1m> Entering new SequentialChain chain...\u001B[0m\n",
      "\n",
      "\n",
      "\u001B[1m> Entering new LLMChain chain...\u001B[0m\n",
      "Prompt after formatting:\n",
      "\u001B[32;1m\u001B[1;3m\n",
      "Text:Machine learning (ML) is a field of study in artificial intelligence concerned with the development and study of statistical algorithms that can learn from data and generalize to unseen data, and thus perform tasks without explicit instructions.[1] Recently, artificial neural networks have been able to surpass many previous approaches in performance.[2][3]\n",
      "\n",
      "Machine learning approaches have been applied to many fields including natural language processing, computer vision, speech recognition, email filtering, agriculture, and medicine.[4][5] ML is known in its application across business problems under the name predictive analytics. Although not all machine learning is statistically based, computational statistics is an important source of the field's methods.\n",
      "\n",
      "The mathematical foundations of ML are provided by mathematical optimization (mathematical programming) methods. Data mining is a related (parallel) field of study, focusing on exploratory data analysis (EDA) through unsupervised learning.[7][8]\n",
      "\n",
      "From a theoretical viewpoint, probably approximately correct (PAC) learning provides a framework for describing machine learning.\n",
      "You are an expert MCQ maker. Given the above text, it is your job to create a quiz  of 5 multiple choice questions for data science students in simple tone. \n",
      "Make sure the questions are not repeated and check all the questions to be conforming the text as well.\n",
      "Make sure to format your response like  RESPONSE_JSON below  and use it as a guide. Ensure to make 5 MCQs\n",
      "### RESPONSE_JSON\n",
      "{\"1\": {\"mcq\": \"multiple choice question\", \"options\": {\"a\": \"choice here\", \"b\": \"choice here\", \"c\": \"choice here\", \"d\": \"choice here\"}, \"correct\": \"correct answer\"}, \"2\": {\"mcq\": \"multiple choice question\", \"options\": {\"a\": \"choice here\", \"b\": \"choice here\", \"c\": \"choice here\", \"d\": \"choice here\"}, \"correct\": \"correct answer\"}, \"3\": {\"mcq\": \"multiple choice question\", \"options\": {\"a\": \"choice here\", \"b\": \"choice here\", \"c\": \"choice here\", \"d\": \"choice here\"}, \"correct\": \"correct answer\"}}\n",
      "\n",
      "\u001B[0m\n",
      "\n",
      "\u001B[1m> Finished chain.\u001B[0m\n",
      "\n",
      "\n",
      "\u001B[1m> Entering new LLMChain chain...\u001B[0m\n",
      "Prompt after formatting:\n",
      "\u001B[32;1m\u001B[1;3m\n",
      "Text:Machine learning (ML) is a field of study in artificial intelligence concerned with the development and study of statistical algorithms that can learn from data and generalize to unseen data, and thus perform tasks without explicit instructions.[1] Recently, artificial neural networks have been able to surpass many previous approaches in performance.[2][3]\n",
      "\n",
      "Machine learning approaches have been applied to many fields including natural language processing, computer vision, speech recognition, email filtering, agriculture, and medicine.[4][5] ML is known in its application across business problems under the name predictive analytics. Although not all machine learning is statistically based, computational statistics is an important source of the field's methods.\n",
      "\n",
      "The mathematical foundations of ML are provided by mathematical optimization (mathematical programming) methods. Data mining is a related (parallel) field of study, focusing on exploratory data analysis (EDA) through unsupervised learning.[7][8]\n",
      "\n",
      "From a theoretical viewpoint, probably approximately correct (PAC) learning provides a framework for describing machine learning.\n",
      "You are an expert MCQ maker. Given the above text, it is your job to create a quiz  of 5 multiple choice questions for data science students in simple tone. \n",
      "Make sure the questions are not repeated and check all the questions to be conforming the text as well.\n",
      "Make sure to format your response like  RESPONSE_JSON below  and use it as a guide. Ensure to make 5 MCQs\n",
      "### RESPONSE_JSON\n",
      "{\"1\": {\"mcq\": \"multiple choice question\", \"options\": {\"a\": \"choice here\", \"b\": \"choice here\", \"c\": \"choice here\", \"d\": \"choice here\"}, \"correct\": \"correct answer\"}, \"2\": {\"mcq\": \"multiple choice question\", \"options\": {\"a\": \"choice here\", \"b\": \"choice here\", \"c\": \"choice here\", \"d\": \"choice here\"}, \"correct\": \"correct answer\"}, \"3\": {\"mcq\": \"multiple choice question\", \"options\": {\"a\": \"choice here\", \"b\": \"choice here\", \"c\": \"choice here\", \"d\": \"choice here\"}, \"correct\": \"correct answer\"}}\n",
      "\n",
      "\u001B[0m\n",
      "\n",
      "\u001B[1m> Finished chain.\u001B[0m\n",
      "\n",
      "\u001B[1m> Finished chain.\u001B[0m\n"
     ]
    }
   ],
   "source": [
    "#https://python.langchain.com/docs/modules/model_io/llms/token_usage_tracking\n",
    "\n",
    "#How to setup Token Usage Tracking in LangChain\n",
    "with get_openai_callback() as cb:\n",
    "    response=generate_evaluate_chain(\n",
    "        {\n",
    "            \"text\": TEXT,\n",
    "            \"number\": NUMBER,\n",
    "            \"subject\":SUBJECT,\n",
    "            \"tone\": TONE,\n",
    "            \"response_json\": json.dumps(RESPONSE_JSON)\n",
    "        }\n",
    "        )"
   ],
   "metadata": {
    "collapsed": false,
    "ExecuteTime": {
     "end_time": "2024-03-23T10:37:54.538478Z",
     "start_time": "2024-03-23T10:37:45.352163Z"
    }
   },
   "id": "bb6c546533cb3cb2",
   "execution_count": 32
  },
  {
   "cell_type": "code",
   "outputs": [
    {
     "name": "stdout",
     "output_type": "stream",
     "text": [
      "Total Tokens:1519\n",
      "Prompt Tokens:904\n",
      "Completion Tokens:615\n",
      "Total Cost:0.0051719999999999995\n"
     ]
    }
   ],
   "source": [
    "print(f\"Total Tokens:{cb.total_tokens}\")\n",
    "print(f\"Prompt Tokens:{cb.prompt_tokens}\")\n",
    "print(f\"Completion Tokens:{cb.completion_tokens}\")\n",
    "print(f\"Total Cost:{cb.total_cost}\")"
   ],
   "metadata": {
    "collapsed": false,
    "ExecuteTime": {
     "end_time": "2024-03-23T10:38:45.486222Z",
     "start_time": "2024-03-23T10:38:45.478949Z"
    }
   },
   "id": "3301ac263b57be9f",
   "execution_count": 33
  },
  {
   "cell_type": "code",
   "outputs": [
    {
     "data": {
      "text/plain": "{'text': \"Machine learning (ML) is a field of study in artificial intelligence concerned with the development and study of statistical algorithms that can learn from data and generalize to unseen data, and thus perform tasks without explicit instructions.[1] Recently, artificial neural networks have been able to surpass many previous approaches in performance.[2][3]\\n\\nMachine learning approaches have been applied to many fields including natural language processing, computer vision, speech recognition, email filtering, agriculture, and medicine.[4][5] ML is known in its application across business problems under the name predictive analytics. Although not all machine learning is statistically based, computational statistics is an important source of the field's methods.\\n\\nThe mathematical foundations of ML are provided by mathematical optimization (mathematical programming) methods. Data mining is a related (parallel) field of study, focusing on exploratory data analysis (EDA) through unsupervised learning.[7][8]\\n\\nFrom a theoretical viewpoint, probably approximately correct (PAC) learning provides a framework for describing machine learning.\",\n 'number': 5,\n 'subject': 'data science',\n 'tone': 'simple',\n 'response_json': '{\"1\": {\"mcq\": \"multiple choice question\", \"options\": {\"a\": \"choice here\", \"b\": \"choice here\", \"c\": \"choice here\", \"d\": \"choice here\"}, \"correct\": \"correct answer\"}, \"2\": {\"mcq\": \"multiple choice question\", \"options\": {\"a\": \"choice here\", \"b\": \"choice here\", \"c\": \"choice here\", \"d\": \"choice here\"}, \"correct\": \"correct answer\"}, \"3\": {\"mcq\": \"multiple choice question\", \"options\": {\"a\": \"choice here\", \"b\": \"choice here\", \"c\": \"choice here\", \"d\": \"choice here\"}, \"correct\": \"correct answer\"}}',\n 'quiz': '{\"1\": {\"mcq\": \"Which field is machine learning a part of?\", \"options\": {\"a\": \"Artificial intelligence\", \"b\": \"Data science\", \"c\": \"Computer programming\", \"d\": \"Robotics\"}, \"correct\": \"a\"}, \"2\": {\"mcq\": \"What is the goal of machine learning?\", \"options\": {\"a\": \"To develop statistical algorithms\", \"b\": \"To study artificial neural networks\", \"c\": \"To perform tasks without explicit instructions\", \"d\": \"To explore data through unsupervised learning\"}, \"correct\": \"c\"}, \"3\": {\"mcq\": \"Which field has machine learning been applied to?\", \"options\": {\"a\": \"Natural language processing\", \"b\": \"Astronomy\", \"c\": \"Geology\", \"d\": \"Philosophy\"}, \"correct\": \"a\"}, \"4\": {\"mcq\": \"What provides the mathematical foundations of machine learning?\", \"options\": {\"a\": \"Data mining\", \"b\": \"Mathematical optimization\", \"c\": \"Predictive analytics\", \"d\": \"Computational statistics\"}, \"correct\": \"b\"}, \"5\": {\"mcq\": \"What framework describes machine learning from a theoretical viewpoint?\", \"options\": {\"a\": \"Parallel computing\", \"b\": \"Approximate reasoning\", \"c\": \"Exploratory data analysis\", \"d\": \"Probably approximately correct learning\"}, \"correct\": \"d\"}}',\n 'review': '{\"1\": {\"mcq\": \"What is machine learning?\", \"options\": {\"a\": \"The study of statistical algorithms\", \"b\": \"The study of artificial intelligence\", \"c\": \"The study of email filtering\", \"d\": \"The study of agriculture\"}, \"correct\": \"The study of statistical algorithms\"}, \"2\": {\"mcq\": \"Which field has machine learning been applied to?\", \"options\": {\"a\": \"Natural language processing\", \"b\": \"Artificial neural networks\", \"c\": \"Computer vision\", \"d\": \"All of the above\"}, \"correct\": \"All of the above\"}, \"3\": {\"mcq\": \"What is the mathematical foundation of machine learning?\", \"options\": {\"a\": \"Data mining\", \"b\": \"Mathematical optimization\", \"c\": \"Computational statistics\", \"d\": \"Parallel field of study\"}, \"correct\": \"Mathematical optimization\"}, \"4\": {\"mcq\": \"What is the name given to machine learning in business problems?\", \"options\": {\"a\": \"Predictive analytics\", \"b\": \"Artificial intelligence\", \"c\": \"Statistical algorithms\", \"d\": \"Unsupervised learning\"}, \"correct\": \"Predictive analytics\"}, \"5\": {\"mcq\": \"What framework describes machine learning from a theoretical viewpoint?\", \"options\": {\"a\": \"PAC learning\", \"b\": \"Data mining\", \"c\": \"Exploratory data analysis\", \"d\": \"Mathematical optimization\"}, \"correct\": \"PAC learning\"}}'}"
     },
     "execution_count": 36,
     "metadata": {},
     "output_type": "execute_result"
    }
   ],
   "source": [
    "response"
   ],
   "metadata": {
    "collapsed": false,
    "ExecuteTime": {
     "end_time": "2024-03-23T10:40:04.586960Z",
     "start_time": "2024-03-23T10:40:04.577688Z"
    }
   },
   "id": "68170635546074c5",
   "execution_count": 36
  },
  {
   "cell_type": "code",
   "outputs": [
    {
     "name": "stdout",
     "output_type": "stream",
     "text": [
      "{\"1\": {\"mcq\": \"Which field is machine learning a part of?\", \"options\": {\"a\": \"Artificial intelligence\", \"b\": \"Data science\", \"c\": \"Computer programming\", \"d\": \"Robotics\"}, \"correct\": \"a\"}, \"2\": {\"mcq\": \"What is the goal of machine learning?\", \"options\": {\"a\": \"To develop statistical algorithms\", \"b\": \"To study artificial neural networks\", \"c\": \"To perform tasks without explicit instructions\", \"d\": \"To explore data through unsupervised learning\"}, \"correct\": \"c\"}, \"3\": {\"mcq\": \"Which field has machine learning been applied to?\", \"options\": {\"a\": \"Natural language processing\", \"b\": \"Astronomy\", \"c\": \"Geology\", \"d\": \"Philosophy\"}, \"correct\": \"a\"}, \"4\": {\"mcq\": \"What provides the mathematical foundations of machine learning?\", \"options\": {\"a\": \"Data mining\", \"b\": \"Mathematical optimization\", \"c\": \"Predictive analytics\", \"d\": \"Computational statistics\"}, \"correct\": \"b\"}, \"5\": {\"mcq\": \"What framework describes machine learning from a theoretical viewpoint?\", \"options\": {\"a\": \"Parallel computing\", \"b\": \"Approximate reasoning\", \"c\": \"Exploratory data analysis\", \"d\": \"Probably approximately correct learning\"}, \"correct\": \"d\"}}\n"
     ]
    }
   ],
   "source": [
    "quiz=response.get(\"quiz\")\n",
    "print(quiz)"
   ],
   "metadata": {
    "collapsed": false,
    "ExecuteTime": {
     "end_time": "2024-03-23T10:42:53.844688Z",
     "start_time": "2024-03-23T10:42:53.840580Z"
    }
   },
   "id": "c781641b1c8cebac",
   "execution_count": 40
  },
  {
   "cell_type": "code",
   "outputs": [],
   "source": [
    "quiz=json.loads(quiz)"
   ],
   "metadata": {
    "collapsed": false,
    "ExecuteTime": {
     "end_time": "2024-03-23T10:44:31.010478Z",
     "start_time": "2024-03-23T10:44:31.004489Z"
    }
   },
   "id": "fba0d26e544b8421",
   "execution_count": 43
  },
  {
   "cell_type": "code",
   "outputs": [],
   "source": [
    "quiz_table_data = []\n",
    "for key, value in quiz.items():\n",
    "    mcq = value[\"mcq\"]\n",
    "    options = \" | \".join(\n",
    "        [\n",
    "            f\"{option}: {option_value}\"\n",
    "            for option, option_value in value[\"options\"].items()\n",
    "            ]\n",
    "        )\n",
    "    correct = value[\"correct\"]\n",
    "    quiz_table_data.append({\"MCQ\": mcq, \"Choices\": options, \"Correct\": correct})"
   ],
   "metadata": {
    "collapsed": false,
    "ExecuteTime": {
     "end_time": "2024-03-23T10:44:34.610144Z",
     "start_time": "2024-03-23T10:44:34.605835Z"
    }
   },
   "id": "e01045efa03cf441",
   "execution_count": 44
  },
  {
   "cell_type": "code",
   "outputs": [
    {
     "data": {
      "text/plain": "[{'MCQ': 'Which field is machine learning a part of?',\n  'Choices': 'a: Artificial intelligence | b: Data science | c: Computer programming | d: Robotics',\n  'Correct': 'a'},\n {'MCQ': 'What is the goal of machine learning?',\n  'Choices': 'a: To develop statistical algorithms | b: To study artificial neural networks | c: To perform tasks without explicit instructions | d: To explore data through unsupervised learning',\n  'Correct': 'c'},\n {'MCQ': 'Which field has machine learning been applied to?',\n  'Choices': 'a: Natural language processing | b: Astronomy | c: Geology | d: Philosophy',\n  'Correct': 'a'},\n {'MCQ': 'What provides the mathematical foundations of machine learning?',\n  'Choices': 'a: Data mining | b: Mathematical optimization | c: Predictive analytics | d: Computational statistics',\n  'Correct': 'b'},\n {'MCQ': 'What framework describes machine learning from a theoretical viewpoint?',\n  'Choices': 'a: Parallel computing | b: Approximate reasoning | c: Exploratory data analysis | d: Probably approximately correct learning',\n  'Correct': 'd'}]"
     },
     "execution_count": 45,
     "metadata": {},
     "output_type": "execute_result"
    }
   ],
   "source": [
    "quiz_table_data"
   ],
   "metadata": {
    "collapsed": false,
    "ExecuteTime": {
     "end_time": "2024-03-23T10:44:37.519430Z",
     "start_time": "2024-03-23T10:44:37.493857Z"
    }
   },
   "id": "13d426a402ed1594",
   "execution_count": 45
  },
  {
   "cell_type": "code",
   "outputs": [],
   "source": [
    "quiz=pd.DataFrame(quiz_table_data)"
   ],
   "metadata": {
    "collapsed": false,
    "ExecuteTime": {
     "end_time": "2024-03-23T10:46:01.662320Z",
     "start_time": "2024-03-23T10:46:01.655765Z"
    }
   },
   "id": "f98e2a3eea8c7044",
   "execution_count": 47
  },
  {
   "cell_type": "code",
   "outputs": [],
   "source": [
    "quiz.to_csv(\"machinelearning.csv\",index=False)"
   ],
   "metadata": {
    "collapsed": false,
    "ExecuteTime": {
     "end_time": "2024-03-23T10:46:22.695120Z",
     "start_time": "2024-03-23T10:46:22.684869Z"
    }
   },
   "id": "7e6178240f69ecdc",
   "execution_count": 48
  }
 ],
 "metadata": {
  "kernelspec": {
   "display_name": "Python 3",
   "language": "python",
   "name": "python3"
  },
  "language_info": {
   "codemirror_mode": {
    "name": "ipython",
    "version": 2
   },
   "file_extension": ".py",
   "mimetype": "text/x-python",
   "name": "python",
   "nbconvert_exporter": "python",
   "pygments_lexer": "ipython2",
   "version": "2.7.6"
  }
 },
 "nbformat": 4,
 "nbformat_minor": 5
}
